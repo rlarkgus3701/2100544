{
  "nbformat": 4,
  "nbformat_minor": 0,
  "metadata": {
    "colab": {
      "name": "Untitled2.ipynb",
      "provenance": [],
      "collapsed_sections": [],
      "authorship_tag": "ABX9TyPR6S87joRVBPvqCC/GihKo",
      "include_colab_link": true
    },
    "kernelspec": {
      "name": "python3",
      "display_name": "Python 3"
    },
    "language_info": {
      "name": "python"
    }
  },
  "cells": [
    {
      "cell_type": "markdown",
      "metadata": {
        "id": "view-in-github",
        "colab_type": "text"
      },
      "source": [
        "<a href=\"https://colab.research.google.com/github/rlarkgus3701/2100544/blob/main/Untitled2.ipynb\" target=\"_parent\"><img src=\"https://colab.research.google.com/assets/colab-badge.svg\" alt=\"Open In Colab\"/></a>"
      ]
    },
    {
      "cell_type": "code",
      "metadata": {
        "colab": {
          "base_uri": "https://localhost:8080/"
        },
        "id": "TMi-_wma6WeM",
        "outputId": "a539faf2-9d32-4bb6-dd7e-6fdc80ae2b61"
      },
      "source": [
        "number = int(input(\"정수를 입력하시오: \"))\n",
        "sum = 0\n",
        "sum = sum + number % 10\n",
        "number = number // 10\n",
        "sum = sum + number % 10\n",
        "number = number // 10\n",
        "sum = sum + number % 10\n",
        "number = number // 10\n",
        "sum = sum + number % 10\n",
        "number = number // 10\n",
        "print(\"자리수의 합: \", str(sum))"
      ],
      "execution_count": 1,
      "outputs": [
        {
          "output_type": "stream",
          "name": "stdout",
          "text": [
            "정수를 입력하시오: 1234\n",
            "자리수의 합:  10\n"
          ]
        }
      ]
    },
    {
      "cell_type": "code",
      "metadata": {
        "colab": {
          "base_uri": "https://localhost:8080/"
        },
        "id": "D0P9Q7B76faj",
        "outputId": "16c81bf5-725a-4919-f127-798543a8d4ed"
      },
      "source": [
        "x1 = int(input(\"x1: \"))\n",
        "y1 = int(input(\"y1: \"))\n",
        "x2 = int(input(\"x2: \"))\n",
        "y2 = int(input(\"y2: \"))\n",
        "dist = ( (x2 - x1)**2 + (y2 - y1)**2 )**0.5\n",
        "print(\"두점 사이의 거리=\", dist)"
      ],
      "execution_count": 2,
      "outputs": [
        {
          "output_type": "stream",
          "name": "stdout",
          "text": [
            "x1: 0\n",
            "y1: 0\n",
            "x2: 100\n",
            "y2: 100\n",
            "두점 사이의 거리= 141.4213562373095\n"
          ]
        }
      ]
    }
  ]
}