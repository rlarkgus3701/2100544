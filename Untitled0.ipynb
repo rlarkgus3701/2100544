{
  "nbformat": 4,
  "nbformat_minor": 0,
  "metadata": {
    "colab": {
      "name": "Untitled0.ipynb",
      "provenance": [],
      "collapsed_sections": [],
      "authorship_tag": "ABX9TyNtLj8HF7QvjFAwtFiN++ec",
      "include_colab_link": true
    },
    "kernelspec": {
      "name": "python3",
      "display_name": "Python 3"
    },
    "language_info": {
      "name": "python"
    }
  },
  "cells": [
    {
      "cell_type": "markdown",
      "metadata": {
        "id": "view-in-github",
        "colab_type": "text"
      },
      "source": [
        "<a href=\"https://colab.research.google.com/github/rlarkgus3701/2100544/blob/main/Untitled0.ipynb\" target=\"_parent\"><img src=\"https://colab.research.google.com/assets/colab-badge.svg\" alt=\"Open In Colab\"/></a>"
      ]
    },
    {
      "cell_type": "code",
      "metadata": {
        "colab": {
          "base_uri": "https://localhost:8080/"
        },
        "id": "my1vobzxTw5G",
        "outputId": "e3e886be-8fb0-48ad-8071-6f52775cd55f"
      },
      "source": [
        "score = int(input(\"성적을 입력하시오: \"))\n",
        "if score >= 90:\n",
        " print(\"A학점입니다.\")\n",
        "elif score >= 80:\n",
        " print(\"B학점입니다.\")\n",
        "elif score >= 70:\n",
        " print(\"C학점입니다.\")\n",
        "elif score >= 60:\n",
        " print(\"D학점입니다.\")\n",
        "else :\n",
        " print(\"F학점입니다.\")\n"
      ],
      "execution_count": 3,
      "outputs": [
        {
          "output_type": "stream",
          "name": "stdout",
          "text": [
            "성적을 입력하시오: 62\n",
            "D학점입니다.\n"
          ]
        }
      ]
    }
  ]
}