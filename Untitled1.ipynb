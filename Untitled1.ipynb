{
  "nbformat": 4,
  "nbformat_minor": 0,
  "metadata": {
    "colab": {
      "name": "Untitled1.ipynb",
      "provenance": [],
      "authorship_tag": "ABX9TyNeaLG+SDEL099Hnp89SK42",
      "include_colab_link": true
    },
    "kernelspec": {
      "name": "python3",
      "display_name": "Python 3"
    },
    "language_info": {
      "name": "python"
    }
  },
  "cells": [
    {
      "cell_type": "markdown",
      "metadata": {
        "id": "view-in-github",
        "colab_type": "text"
      },
      "source": [
        "<a href=\"https://colab.research.google.com/github/rlarkgus3701/2100544/blob/main/Untitled1.ipynb\" target=\"_parent\"><img src=\"https://colab.research.google.com/assets/colab-badge.svg\" alt=\"Open In Colab\"/></a>"
      ]
    },
    {
      "cell_type": "code",
      "metadata": {
        "colab": {
          "base_uri": "https://localhost:8080/"
        },
        "id": "Wc7fzq-n36IZ",
        "outputId": "0aca6bcc-4359-4bda-88f4-e2355b60e39f"
      },
      "source": [
        "number = int(input(\"정수를 입력하시오: \"))\n",
        "sum = 0\n",
        "sum = sum + number % 10\n",
        "number = number // 10\n",
        "sum = sum + number % 10\n",
        "number = number // 10\n",
        "sum = sum + number % 10\n",
        "number = number // 10\n",
        "sum = sum + number % 10\n",
        "number = number // 10\n",
        "print(\"자리수의 합: \", str(sum))\n"
      ],
      "execution_count": 2,
      "outputs": [
        {
          "output_type": "stream",
          "name": "stdout",
          "text": [
            "정수를 입력하시오: 1234\n",
            "자리수의 합:  10\n"
          ]
        }
      ]
    }
  ]
}